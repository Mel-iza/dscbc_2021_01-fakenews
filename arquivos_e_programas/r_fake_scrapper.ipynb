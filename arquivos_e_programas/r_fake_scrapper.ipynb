{
  "nbformat": 4,
  "nbformat_minor": 0,
  "metadata": {
    "colab": {
      "name": "scrapper_2.ipynb",
      "provenance": []
    },
    "kernelspec": {
      "name": "ir",
      "display_name": "R"
    },
    "language_info": {
      "name": "R"
    }
  },
  "cells": [
    {
      "cell_type": "code",
      "metadata": {
        "id": "13AilNMuXCYm"
      },
      "source": [
        "library(rvest)\n",
        "library(stringr)\n",
        "library(tidyverse)"
      ],
      "execution_count": null,
      "outputs": []
    },
    {
      "cell_type": "code",
      "metadata": {
        "id": "VDpCQT3Rn75r"
      },
      "source": [
        "html <- read_html('https://www.boatos.org/politica/governador-sergipe-permite-confiscar-propriedade-privada-quem-descumprir-criticar-quarentena-decreto-40-798.html')"
      ],
      "execution_count": null,
      "outputs": []
    },
    {
      "cell_type": "code",
      "metadata": {
        "id": "i5dm8eEHBVgm"
      },
      "source": [
        "raspa_e_salva <- function(html, fake_or_real){\n",
        "    #Pega o título da matéria\n",
        "    processa_titulo <- html %>%\n",
        "        html_nodes('title')\n",
        "        titulo_limpo <- html_text(processa_titulo)\n",
        "\n",
        "    #Pega o texto\n",
        "    processa_texto <- html %>%\n",
        "        html_nodes('.red')\n",
        "        texto_limpo <- html_text(processa_texto)\n",
        "\n",
        "    #tabela <- rbind(tabela, tibble(titulos = titulo,\n",
        "    df <- data.frame(titulos = titulo,\n",
        "        textos = texto,\n",
        "        verdadeira = fake_or_real\n",
        "    )\n",
        "}"
      ],
      "execution_count": null,
      "outputs": []
    },
    {
      "cell_type": "code",
      "metadata": {
        "id": "r-eo8BqdBpum"
      },
      "source": [
        "df <- raspa_e_salva(html, 1)"
      ],
      "execution_count": null,
      "outputs": []
    }
  ]
}