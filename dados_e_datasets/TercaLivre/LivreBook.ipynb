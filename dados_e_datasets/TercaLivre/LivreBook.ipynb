{
 "cells": [
  {
   "cell_type": "markdown",
   "metadata": {},
   "source": [
    "### Crawler obtido do site https://www.ncbi.nlm.nih.gov/pmc/articles/PMC7434436/\n",
    "\n",
    "\n",
    "### Este notebook foi adaptado para coletar informações do site \"TercaLivre.com.br para nosso trabalho\"\n",
    "\n",
    "Palavras-chave: Tratamento, COVID-19, Pandemia"
   ]
  },
  {
   "cell_type": "code",
   "execution_count": 2,
   "metadata": {},
   "outputs": [],
   "source": [
    "# bibliotecas da primeira parte\n",
    "import pandas as pd\n",
    "import numpy as np\n",
    "\n",
    "from requests import get\n",
    "from time import sleep\n",
    "from random import randint\n",
    "import sys\n",
    "import os\n",
    "\n",
    "from bs4 import BeautifulSoup\n",
    "import html5lib\n",
    "import lxml\n",
    "import re\n",
    "\n",
    "\n",
    "from urllib.request import urlopen\n",
    "from urllib.error import HTTPError\n",
    "from urllib.error import URLError\n",
    "\n",
    "import csv\n",
    "import codecs\n",
    "import datetime\n",
    "import json"
   ]
  },
  {
   "cell_type": "markdown",
   "metadata": {},
   "source": [
    "### 1a. Parte: Buscando os dados do site"
   ]
  },
  {
   "cell_type": "code",
   "execution_count": 17,
   "metadata": {},
   "outputs": [],
   "source": [
    "#Place where the files will be saved\n",
    "dir_output = 'livredir' "
   ]
  },
  {
   "cell_type": "code",
   "execution_count": 18,
   "metadata": {},
   "outputs": [
    {
     "name": "stdout",
     "output_type": "stream",
     "text": [
      "Directory livredir already exists.\n"
     ]
    }
   ],
   "source": [
    "# Procedure to create a directory to save the pages\n",
    "try:\n",
    "    os.mkdir(dir_output)\n",
    "except OSError:\n",
    "    print (\"Directory %s already exists.\" % dir_output)\n",
    "else:\n",
    "    print (\"Successfully created the directory %s \" % dir_output)"
   ]
  },
  {
   "cell_type": "code",
   "execution_count": 19,
   "metadata": {},
   "outputs": [],
   "source": [
    "### O INPUT_FILE DEVE SER TROCADO PARA CADA BUSCA ###\n",
    "                                                    #\n",
    "input_file = \"LivreLinks.txt\"                     #\n",
    "                                                    #\n",
    "#####################################################"
   ]
  },
  {
   "cell_type": "code",
   "execution_count": 20,
   "metadata": {},
   "outputs": [],
   "source": [
    "#print(response)"
   ]
  },
  {
   "cell_type": "code",
   "execution_count": null,
   "metadata": {},
   "outputs": [],
   "source": []
  },
  {
   "cell_type": "markdown",
   "metadata": {},
   "source": [
    "### Espaço para teste do BeautifulSoup"
   ]
  },
  {
   "cell_type": "code",
   "execution_count": null,
   "metadata": {},
   "outputs": [],
   "source": []
  },
  {
   "cell_type": "markdown",
   "metadata": {},
   "source": [
    "### Criando as variáveis somente na primeira vez"
   ]
  },
  {
   "cell_type": "code",
   "execution_count": 21,
   "metadata": {},
   "outputs": [],
   "source": [
    "datas_publicadas = list()\n",
    "titulos = list()\n",
    "urls = list()\n",
    "noticias = list()\n",
    "response = str()\n",
    "requests = 0\n",
    "start_time = 0"
   ]
  },
  {
   "cell_type": "code",
   "execution_count": null,
   "metadata": {},
   "outputs": [],
   "source": []
  },
  {
   "cell_type": "markdown",
   "metadata": {},
   "source": [
    "### Espaço para ver o conteúdo das variáveis acima."
   ]
  },
  {
   "cell_type": "code",
   "execution_count": 22,
   "metadata": {},
   "outputs": [],
   "source": [
    "##### NÃO DEVE SER ZERADA ATÉ FINALIZAR A LISTA #####\n",
    "                                                    #\n",
    "livredir_collected = next(os.walk('livredir'))[2]   #\n",
    "                                                    #\n",
    "#####################################################"
   ]
  },
  {
   "cell_type": "code",
   "execution_count": 123,
   "metadata": {},
   "outputs": [
    {
     "data": {
      "text/plain": [
       "'apos-inclusao-de-estados-e-municipios-na-cpi-da-covid-numeros-de-internacoes-caem-subitamente'"
      ]
     },
     "execution_count": 123,
     "metadata": {},
     "output_type": "execute_result"
    }
   ],
   "source": [
    "livredir_name"
   ]
  },
  {
   "cell_type": "code",
   "execution_count": 124,
   "metadata": {
    "scrolled": true
   },
   "outputs": [
    {
     "name": "stdout",
     "output_type": "stream",
     "text": [
      "Page already collected. https://tercalivre.com.br/camara-de-ponta-grossa-pr-aprova-pl-para-disponibilizar-kit-covid-no-sus/\n",
      "Page already collected. https://tercalivre.com.br/apos-inclusao-de-estados-e-municipios-na-cpi-da-covid-numeros-de-internacoes-caem-subitamente/\n",
      "Page already collected. https://tercalivre.com.br/13-paises-criticam-falta-de-transparencia-da-oms-e-china-sobre-origem-da-covid-19/\n",
      "Page already collected. https://tercalivre.com.br/bolsonaro-anuncia-comite-para-combater-a-covid-19/\n",
      "Page already collected. https://tercalivre.com.br/cidade-de-sao-lourenco-mg-nao-possui-internacoes-por-covid-19/\n",
      "Page already collected. https://tercalivre.com.br/a-pedido-do-psol-tratamento-precoce-esta-proibido-em-porto-alegre/\n",
      "Page already collected. https://tercalivre.com.br/medicamento-testado-no-amazonas-reduziu-em-92-a-mortalidade-por-covid-19-mostra-estudo/\n",
      "Page already collected. https://tercalivre.com.br/com-tratamento-precoce-buzios-zera-casos-de-covid/\n",
      "Page already collected. https://tercalivre.com.br/ivermectina-ensaio-clinico-aponta-eficacia-do-tratamento-precoce-na-reducao-de-mortes-por-covid-19/\n",
      "Page already collected. https://tercalivre.com.br/rede-aciona-stf-pede-aprovacao-da-coronavac-e-reclama-de-acao-tecnica-da-anvisa/\n",
      "Page already collected. https://tercalivre.com.br/anvisa-desmente-declaracoes-de-doria-sobre-coronavac/\n",
      "Page already collected. https://tercalivre.com.br/coronavirus-china-quer-distribuicao-global-para-suas-vacinas/\n",
      "Page already collected. https://tercalivre.com.br/povo-do-piaui-banca-ate-passagens-aereas-de-acompanhantes-de-deputados-com-covid-19/\n",
      "Page already collected. https://tercalivre.com.br/medicos-entregam-carta-a-bolsonaro-em-defesa-do-tratamento-precoce-da-covid-19-com-cloroquina/\n",
      "Page already collected. https://tercalivre.com.br/hospital-das-clinicas-de-sao-paulo-desativa-30-das-utis-de-covid-19/\n",
      "Page already collected. https://tercalivre.com.br/china-recomenda-o-uso-de-cloroquina-no-combate-a-covid-19/\n",
      "Page already collected. https://tercalivre.com.br/soros-produzidos-por-cavalos-tem-anticorpos-potentes-para-covid-19/\n",
      "Page already collected. https://tercalivre.com.br/covid-19-unimed-belem-ve-taxa-de-ocupacao-de-leitos-despencar-apos-distribuir-kits-com-cloroquina/\n",
      "Page already collected. https://tercalivre.com.br/china-esta-reescrevendo-os-fatos-sobre-o-covid-19-para-se-adequar-a-sua-propria-narrativa/\n",
      "Page already collected. https://tercalivre.com.br/universidades-federais-conduzem-mais-1-250-pesquisas-sobre-covid-19/\n",
      "Page already collected. https://tercalivre.com.br/governo-pede-a-fiocruz-que-divulgue-cloroquina-para-tratamento-inicial-de-covid-19/\n",
      "Page already collected. https://tercalivre.com.br/brasil-se-aproxima-de-1-milhao-de-recuperados-de-covid-19/\n",
      "Page already collected. https://tercalivre.com.br/martin-landray-fala-sobre-o-tratamento-do-covid-19/\n",
      "Page already collected. https://tercalivre.com.br/oms-suspende-estudo-que-testava-hidroxicloroquina-contra-o-coronavirus/\n",
      "Page already collected. https://tercalivre.com.br/marcos-eberlin-na-radio-cacique-coronavirus-e-hidroxicloroquina/\n",
      "Page already collected. https://tercalivre.com.br/coronavirus-medicos-santarenos-publicam-carta-aberta-a-populacao-brasileira/\n",
      "Page already collected. https://tercalivre.com.br/prefeito-de-mirandopolis-sp-autoriza-departamento-de-saude-a-usar-cloroquina-contra-a-covid-19/\n",
      "Page already collected. https://tercalivre.com.br/governo-federal-zera-impostos-de-medicamentos-utilizados-em-pacientes-de-covid-19/\n",
      "Page already collected. https://tercalivre.com.br/uso-de-hidroxicloroquina-com-azitromicina-no-tratamento-da-covid-19-esta-liberado-afirma-bolsonaro/\n",
      "Page already collected. https://tercalivre.com.br/coronavirus-pneumologista-explica-o-novo-cenario/\n",
      "Page already collected. https://tercalivre.com.br/mpf-apura-criterios-de-admissao-e-tratamento-ofertado-aos-pacientes-atendidos-no-hospital-de-campanha-de-goiania/\n",
      "Page already collected. https://tercalivre.com.br/coronavirus-pode-estar-servindo-como-estrategia-de-marketing-para-desviar-situacoes-politicas-diz-presidente-da-sbcm/\n",
      "Page already collected. https://tercalivre.com.br/curado-medico-de-doria-nao-responde-se-tomou-cloroquina-para-se-tratar-da-covid-19/\n",
      "Page already collected. https://tercalivre.com.br/saiba-como-esta-o-avanco-do-coronavirus-no-brasil/\n",
      "Page already collected. https://tercalivre.com.br/g20-injeta-us-5-trilhoes-na-economia-global-para-conter-coronavirus/\n",
      "Conte até dez...\n",
      "https://tercalivre.com.br/trump-anuncia-aprovacao-de-medicamento-contra-malaria-para-tratamento-da-covid-19/\n",
      "Conte até dez...\n",
      "https://tercalivre.com.br/brasil-tem-apenas-um-caso-suspeito-do-coronavirus/\n",
      "Conte até dez...\n",
      "https://tercalivre.com.br/governo-de-sp-acusa-deputados-kim-kataguiri-e-arthur-do-val-de-invadir-hospital/\n",
      "Conte até dez...\n",
      "https://tercalivre.com.br/saude-destina-recursos-visando-acoes-para-gestantes-e-puerperas-no-brasil/\n",
      "Conte até dez...\n",
      "https://tercalivre.com.br/autoritarismo-juiz-proibe-manifestacoes-em-curitiba/\n",
      "Conte até dez...\n",
      "https://tercalivre.com.br/pf-faz-operacao-contra-desvio-de-recursos-da-saude-no-maranhao/\n",
      "Conte até dez...\n",
      "https://tercalivre.com.br/pazuello-se-reuniu-com-ministro-do-tcu-para-explicar-compra-de-vacinas/\n",
      "Conte até dez...\n",
      "https://tercalivre.com.br/bahia-governador-petista-amplia-o-toque-de-recolher/\n",
      "Conte até dez...\n",
      "https://tercalivre.com.br/cloroquina-weber-envia-noticia-crime-contra-bolsonaro-a-pgr/\n",
      "Conte até dez...\n",
      "https://tercalivre.com.br/cnn-ivermectina-nao-cannabis-sim/\n",
      "Conte até dez...\n",
      "https://tercalivre.com.br/doria-ataca-constantino-e-associacoes-de-jornalistas-se-calam/\n",
      "Conte até dez...\n",
      "https://tercalivre.com.br/instagram-e-facebook-censuram-docentes-pela-liberdade/\n",
      "Conte até dez...\n",
      "https://tercalivre.com.br/maia-voltar-a-defender-cpi-contra-pazuello/\n",
      "Conte até dez...\n",
      "https://tercalivre.com.br/maia-diz-que-bolsonaro-e-covarde-e-tem-culpa-por-mortes-no-pais/\n",
      "Conte até dez...\n",
      "https://tercalivre.com.br/apenas-um-em-17-bilhoes-de-chances-da-hidroxicloroquina-nao-funcionar-diz-medico/\n",
      "Conte até dez...\n",
      "https://tercalivre.com.br/bolsonaro-luta-sozinho-contra-o-fique-em-casa/\n",
      "Conte até dez...\n",
      "https://tercalivre.com.br/italia-letalidade-do-coranavirus-cai-em-segunda-onda/\n",
      "Conte até dez...\n",
      "https://tercalivre.com.br/medico-libera-trump-para-compromissos-publicos-a-partir-de-sabado/\n",
      "Conte até dez...\n",
      "https://tercalivre.com.br/donald-trump-deixa-hospital-e-volta-para-casa-branca/\n",
      "Conte até dez...\n",
      "https://tercalivre.com.br/governador-do-para-helder-barbalho-e-alvo-da-pf-em-operacao-sobre-compra-de-respiradores/\n",
      "Conte até dez...\n",
      "https://tercalivre.com.br/dia-dificil-para-witzel-alerj-derruba-17-dos-18-vetos-do-governador/\n",
      "Conte até dez...\n",
      "https://tercalivre.com.br/marcos-eberlin-cientista-brasileiro-fala-sobre-ciencia-na-franca/\n",
      "Conte até dez...\n",
      "https://tercalivre.com.br/camara-pode-votar-na-terca-feira-suspensao-das-dividas-de-clubes-de-futebol-durante-pandemia/\n",
      "Conte até dez...\n",
      "https://tercalivre.com.br/brasil-recebe-2-milhoes-de-doses-de-hidroxicloroquina-dos-estados-unidos/\n",
      "Conte até dez...\n",
      "https://tercalivre.com.br/japao-pede-que-g20-lidere-acoes-para-recuperar-economia-global/\n",
      "Conte até dez...\n",
      "https://tercalivre.com.br/ministerio-da-saude-apresenta-novo-protocolo-para-uso-da-cloroquina/\n",
      "Conte até dez...\n",
      "https://tercalivre.com.br/comeca-hoje-lockdown-de-flavio-dino-na-grande-sao-luis/\n",
      "Conte até dez...\n",
      "https://tercalivre.com.br/pedido-de-impeachment-de-joao-doria-esta-pronto-e-sera-protocolado-nesta-quarta-feira/\n",
      "Conte até dez...\n",
      "https://tercalivre.com.br/estudo-brasileiro-usa-overdose-de-cloroquina-para-apontar-ineficiencia-do-medicamento-e-11-pessoas-morrem/\n",
      "Conte até dez...\n",
      "https://tercalivre.com.br/hidroxicloroquina-chega-aos-eua-depois-que-a-india-suspendeu-proibicao-de-exportacao/\n",
      "Conte até dez...\n",
      "https://tercalivre.com.br/legisladores-dos-eua-defendem-taiwan-contra-acusacoes-do-diretor-geral-da-oms/\n",
      "Conte até dez...\n",
      "https://tercalivre.com.br/para-a-oms-aborto-e-essencial-durante-a-pandemia-do-virus-chines/\n",
      "Conte até dez...\n",
      "https://tercalivre.com.br/governo-anuncia-r-200-bilhoes-para-socorrer-trabalhadores-e-empresas/\n",
      "Conte até dez...\n",
      "https://tercalivre.com.br/esquerda-demente-esta-atacando-a-terapia-com-hidroxicloroquin-azitromicina-diz-ex-prefeito-de-nova-york/\n"
     ]
    },
    {
     "name": "stdout",
     "output_type": "stream",
     "text": [
      "Conte até dez...\n",
      "https://tercalivre.com.br/bolsonaro-pede-calma-e-diz-que-pais-vencera-virus-chines/\n",
      "Conte até dez...\n",
      "https://tercalivre.com.br/brasil-tem-capacidade-para-produzir-remedio-contra-malaria-testado-para-o-virus-chines/\n",
      "Conte até dez...\n",
      "https://tercalivre.com.br/virus-chines-ministerio-muda-protocolo-de-atendimento-em-posto-de-saude/\n"
     ]
    }
   ],
   "source": [
    "with open(input_file) as infile:\n",
    "    for line in infile:\n",
    "        url = line.strip()\n",
    "        livredir_name = line.split('/')[-2]\n",
    "        \n",
    "        if url in urls or livredir_name in livredir_collected:\n",
    "            print (\"Page already collected.\", url)\n",
    "            \n",
    "        elif url.split('/')[0] != \"https:\":\n",
    "            print (\"Link não é uma página https\", url)\n",
    "            \n",
    "        else:\n",
    "            try:\n",
    "                response = get(url)\n",
    "                requests += 1\n",
    "                print('Conte até dez...')\n",
    "                sleep(randint(60,90))\n",
    "            except HTTPError as e:\n",
    "                print('Erro no HTTP do tipo ', e)\n",
    "            except URLError as e:\n",
    "                print('Servidor não pode ser encontrado', e)\n",
    "            \n",
    "            if response.status_code != 200:\n",
    "                print(response)\n",
    "                print('Descartada a URL: ', url)\n",
    "            else:\n",
    "                bs = BeautifulSoup(response.content, 'html5lib')\n",
    "                \n",
    "                data_publicada = bs.find('span', class_='updated').text\n",
    "                datas_publicadas = datas_publicadas + [data_publicada]\n",
    "                \n",
    "                titulo = bs.h1.text\n",
    "                titulos = titulos + [titulo]\n",
    "            \n",
    "                noticia = str()\n",
    "                i = 0\n",
    "                for i in range(7):\n",
    "                    frase = bs.find_all('p')[i].text\n",
    "                    noticia = noticia + frase\n",
    "                noticias = noticias + [noticia]\n",
    "        \n",
    "                urls = urls + [url]\n",
    "                print(url)\n",
    "                                \n",
    "                livredir = next(os.walk('livredir'))[2]\n",
    "                with open(dir_output + '/' + livredir_name, 'w') as f:\n",
    "                    f.write(livredir_name)\n"
   ]
  },
  {
   "cell_type": "markdown",
   "metadata": {},
   "source": [
    "## Criando o dataset\n",
    "### FAZER A CORREÇÃO DO COMPRIMENTO DOS DADOS SE NECESSÁRIO"
   ]
  },
  {
   "cell_type": "markdown",
   "metadata": {},
   "source": [
    "Verificar se o comprimento dos dados é igual para toda tabela. \n",
    "\n",
    "corrigir com: del nome_cabecalho[item]\n",
    "\n",
    "== datas_publicadas == titulos ==  urls == noticias =="
   ]
  },
  {
   "cell_type": "code",
   "execution_count": 164,
   "metadata": {},
   "outputs": [
    {
     "name": "stdout",
     "output_type": "stream",
     "text": [
      "72\n"
     ]
    },
    {
     "data": {
      "text/plain": [
       "82"
      ]
     },
     "execution_count": 164,
     "metadata": {},
     "output_type": "execute_result"
    }
   ],
   "source": [
    "print(len(urls)) # essa célula foi rodada para ver a quantidade total coletada.\n",
    "#noticias[34]\n",
    "requests # esses 10 requests a mais foram erros de link de páginas removidas."
   ]
  },
  {
   "cell_type": "markdown",
   "metadata": {},
   "source": [
    "## Criando um dataFrame para visualizar o que foi coletado"
   ]
  },
  {
   "cell_type": "code",
   "execution_count": 127,
   "metadata": {
    "scrolled": true
   },
   "outputs": [],
   "source": [
    "df = pd.DataFrame({\n",
    "    \"data\": datas_publicadas,\n",
    "    \"titulo\": titulos,\n",
    "    \"url\": urls,\n",
    "    \"noticia\": noticias\n",
    "})"
   ]
  },
  {
   "cell_type": "markdown",
   "metadata": {},
   "source": [
    "### Leitura do arquivo texto contendo os links"
   ]
  },
  {
   "cell_type": "code",
   "execution_count": 128,
   "metadata": {},
   "outputs": [
    {
     "data": {
      "text/html": [
       "<div>\n",
       "<style scoped>\n",
       "    .dataframe tbody tr th:only-of-type {\n",
       "        vertical-align: middle;\n",
       "    }\n",
       "\n",
       "    .dataframe tbody tr th {\n",
       "        vertical-align: top;\n",
       "    }\n",
       "\n",
       "    .dataframe thead th {\n",
       "        text-align: right;\n",
       "    }\n",
       "</style>\n",
       "<table border=\"1\" class=\"dataframe\">\n",
       "  <thead>\n",
       "    <tr style=\"text-align: right;\">\n",
       "      <th></th>\n",
       "      <th>data</th>\n",
       "      <th>titulo</th>\n",
       "      <th>url</th>\n",
       "      <th>noticia</th>\n",
       "    </tr>\n",
       "  </thead>\n",
       "  <tbody>\n",
       "    <tr>\n",
       "      <th>0</th>\n",
       "      <td>20 de abril de 2021 16:00</td>\n",
       "      <td>Câmara de Ponta Grossa/PR aprova PL para dispo...</td>\n",
       "      <td>https://tercalivre.com.br/camara-de-ponta-gros...</td>\n",
       "      <td>A Câmara do município de Ponta Grossa, no Para...</td>\n",
       "    </tr>\n",
       "    <tr>\n",
       "      <th>1</th>\n",
       "      <td>15 de abril de 2021 21:19</td>\n",
       "      <td>Após inclusão de estados e municípios na ‘CPI ...</td>\n",
       "      <td>https://tercalivre.com.br/apos-inclusao-de-est...</td>\n",
       "      <td>Após o presidente do Senado Federal, Rodrigo P...</td>\n",
       "    </tr>\n",
       "    <tr>\n",
       "      <th>2</th>\n",
       "      <td>31 de março de 2021 12:12</td>\n",
       "      <td>13 países criticam falta de transparência da O...</td>\n",
       "      <td>https://tercalivre.com.br/13-paises-criticam-f...</td>\n",
       "      <td>Treze países emitiram nesta terça-feira (30) u...</td>\n",
       "    </tr>\n",
       "    <tr>\n",
       "      <th>3</th>\n",
       "      <td>25 de março de 2021 11:46</td>\n",
       "      <td>Bolsonaro anuncia comitê para combater a Covid-19</td>\n",
       "      <td>https://tercalivre.com.br/bolsonaro-anuncia-co...</td>\n",
       "      <td>O presidente da República, Jair Bolsonaro, dec...</td>\n",
       "    </tr>\n",
       "    <tr>\n",
       "      <th>4</th>\n",
       "      <td>16 de março de 2021 16:23</td>\n",
       "      <td>Cidade de São Lourenço/MG não possui internaçõ...</td>\n",
       "      <td>https://tercalivre.com.br/cidade-de-sao-louren...</td>\n",
       "      <td>O prefeito da cidade mineira de São Lourenço, ...</td>\n",
       "    </tr>\n",
       "    <tr>\n",
       "      <th>...</th>\n",
       "      <td>...</td>\n",
       "      <td>...</td>\n",
       "      <td>...</td>\n",
       "      <td>...</td>\n",
       "    </tr>\n",
       "    <tr>\n",
       "      <th>67</th>\n",
       "      <td>1 de abril de 2020 14:43</td>\n",
       "      <td>Governo anuncia R$ 200 bilhões para socorrer t...</td>\n",
       "      <td>https://tercalivre.com.br/governo-anuncia-r-20...</td>\n",
       "      <td>O presidente Jair Bolsonaro anunciou hoje (1º)...</td>\n",
       "    </tr>\n",
       "    <tr>\n",
       "      <th>68</th>\n",
       "      <td>30 de março de 2020 14:28</td>\n",
       "      <td>“Esquerda demente está atacando a terapia com ...</td>\n",
       "      <td>https://tercalivre.com.br/esquerda-demente-est...</td>\n",
       "      <td>Numa série de postagens feitas no Twitter desd...</td>\n",
       "    </tr>\n",
       "    <tr>\n",
       "      <th>69</th>\n",
       "      <td>25 de março de 2020 07:00</td>\n",
       "      <td>Bolsonaro pede calma e diz que país vencerá ví...</td>\n",
       "      <td>https://tercalivre.com.br/bolsonaro-pede-calma...</td>\n",
       "      <td>Em pronunciamento no rádio e na TV na noite de...</td>\n",
       "    </tr>\n",
       "    <tr>\n",
       "      <th>70</th>\n",
       "      <td>20 de março de 2020 09:33</td>\n",
       "      <td>Brasil tem capacidade para produzir remédio co...</td>\n",
       "      <td>https://tercalivre.com.br/brasil-tem-capacidad...</td>\n",
       "      <td>O secretário de Ciência, Tecnologia e Insumos ...</td>\n",
       "    </tr>\n",
       "    <tr>\n",
       "      <th>71</th>\n",
       "      <td>20 de março de 2020 07:00</td>\n",
       "      <td>Vírus chinês: ministério muda protocolo de ate...</td>\n",
       "      <td>https://tercalivre.com.br/virus-chines-ministe...</td>\n",
       "      <td>O Ministério da Saúde anunciou nesta quinta-fe...</td>\n",
       "    </tr>\n",
       "  </tbody>\n",
       "</table>\n",
       "<p>72 rows × 4 columns</p>\n",
       "</div>"
      ],
      "text/plain": [
       "                         data  \\\n",
       "0   20 de abril de 2021 16:00   \n",
       "1   15 de abril de 2021 21:19   \n",
       "2   31 de março de 2021 12:12   \n",
       "3   25 de março de 2021 11:46   \n",
       "4   16 de março de 2021 16:23   \n",
       "..                        ...   \n",
       "67   1 de abril de 2020 14:43   \n",
       "68  30 de março de 2020 14:28   \n",
       "69  25 de março de 2020 07:00   \n",
       "70  20 de março de 2020 09:33   \n",
       "71  20 de março de 2020 07:00   \n",
       "\n",
       "                                               titulo  \\\n",
       "0   Câmara de Ponta Grossa/PR aprova PL para dispo...   \n",
       "1   Após inclusão de estados e municípios na ‘CPI ...   \n",
       "2   13 países criticam falta de transparência da O...   \n",
       "3   Bolsonaro anuncia comitê para combater a Covid-19   \n",
       "4   Cidade de São Lourenço/MG não possui internaçõ...   \n",
       "..                                                ...   \n",
       "67  Governo anuncia R$ 200 bilhões para socorrer t...   \n",
       "68  “Esquerda demente está atacando a terapia com ...   \n",
       "69  Bolsonaro pede calma e diz que país vencerá ví...   \n",
       "70  Brasil tem capacidade para produzir remédio co...   \n",
       "71  Vírus chinês: ministério muda protocolo de ate...   \n",
       "\n",
       "                                                  url  \\\n",
       "0   https://tercalivre.com.br/camara-de-ponta-gros...   \n",
       "1   https://tercalivre.com.br/apos-inclusao-de-est...   \n",
       "2   https://tercalivre.com.br/13-paises-criticam-f...   \n",
       "3   https://tercalivre.com.br/bolsonaro-anuncia-co...   \n",
       "4   https://tercalivre.com.br/cidade-de-sao-louren...   \n",
       "..                                                ...   \n",
       "67  https://tercalivre.com.br/governo-anuncia-r-20...   \n",
       "68  https://tercalivre.com.br/esquerda-demente-est...   \n",
       "69  https://tercalivre.com.br/bolsonaro-pede-calma...   \n",
       "70  https://tercalivre.com.br/brasil-tem-capacidad...   \n",
       "71  https://tercalivre.com.br/virus-chines-ministe...   \n",
       "\n",
       "                                              noticia  \n",
       "0   A Câmara do município de Ponta Grossa, no Para...  \n",
       "1   Após o presidente do Senado Federal, Rodrigo P...  \n",
       "2   Treze países emitiram nesta terça-feira (30) u...  \n",
       "3   O presidente da República, Jair Bolsonaro, dec...  \n",
       "4   O prefeito da cidade mineira de São Lourenço, ...  \n",
       "..                                                ...  \n",
       "67  O presidente Jair Bolsonaro anunciou hoje (1º)...  \n",
       "68  Numa série de postagens feitas no Twitter desd...  \n",
       "69  Em pronunciamento no rádio e na TV na noite de...  \n",
       "70  O secretário de Ciência, Tecnologia e Insumos ...  \n",
       "71  O Ministério da Saúde anunciou nesta quinta-fe...  \n",
       "\n",
       "[72 rows x 4 columns]"
      ]
     },
     "execution_count": 128,
     "metadata": {},
     "output_type": "execute_result"
    }
   ],
   "source": [
    "# Célula para consulta da situação das variáveis se for o caso. \n",
    "#print(df)\n",
    "df"
   ]
  },
  {
   "cell_type": "markdown",
   "metadata": {},
   "source": [
    "### CRIANDO UM ARQUIVO CSV PARCIAL - RENOMEAR A CADA LISTA NOVA"
   ]
  },
  {
   "cell_type": "code",
   "execution_count": 132,
   "metadata": {},
   "outputs": [],
   "source": [
    "########## RENUMERAR LIVRE PARA CRIAR O NOVO CSV PARCIAL #################\n",
    "                                                                         #\n",
    "df.to_csv(\"LivreXXX.csv\", index = False, sep=',', encoding=\"UTF-8\") #\n",
    "                                                                         #\n",
    "##########################################################################"
   ]
  },
  {
   "cell_type": "markdown",
   "metadata": {},
   "source": [
    "### RODAR A CÉLULA ABAIXO SOMENTE QUANDO FOR CRIAR BACKUP"
   ]
  },
  {
   "cell_type": "code",
   "execution_count": 133,
   "metadata": {},
   "outputs": [],
   "source": [
    "#backup = df[:] # para fazer o backup do dataframe se for o caso.\n",
    "#backup # para ver o backup se for o caso\n",
    "#df # para ver o dataframe se for o caso"
   ]
  },
  {
   "cell_type": "code",
   "execution_count": null,
   "metadata": {},
   "outputs": [],
   "source": []
  },
  {
   "cell_type": "markdown",
   "metadata": {},
   "source": [
    "# Procedimento para abri os dados do TercaLivreCSV.csv"
   ]
  },
  {
   "cell_type": "code",
   "execution_count": 6,
   "metadata": {},
   "outputs": [],
   "source": [
    "#### ABRINDO O ARQUIVO CSV CRIADO: COPIAR O MESMO NOME DO NOVO CSV ####\n",
    "\n",
    "LivreCSV = pd.read_csv('LivreCSV.csv', )"
   ]
  },
  {
   "cell_type": "code",
   "execution_count": 7,
   "metadata": {
    "scrolled": false
   },
   "outputs": [
    {
     "data": {
      "text/html": [
       "<div>\n",
       "<style scoped>\n",
       "    .dataframe tbody tr th:only-of-type {\n",
       "        vertical-align: middle;\n",
       "    }\n",
       "\n",
       "    .dataframe tbody tr th {\n",
       "        vertical-align: top;\n",
       "    }\n",
       "\n",
       "    .dataframe thead th {\n",
       "        text-align: right;\n",
       "    }\n",
       "</style>\n",
       "<table border=\"1\" class=\"dataframe\">\n",
       "  <thead>\n",
       "    <tr style=\"text-align: right;\">\n",
       "      <th></th>\n",
       "      <th>data</th>\n",
       "      <th>titulo</th>\n",
       "      <th>url</th>\n",
       "      <th>noticia</th>\n",
       "    </tr>\n",
       "  </thead>\n",
       "  <tbody>\n",
       "    <tr>\n",
       "      <th>0</th>\n",
       "      <td>20 de abril de 2021 16:00</td>\n",
       "      <td>Câmara de Ponta Grossa/PR aprova PL para dispo...</td>\n",
       "      <td>https://tercalivre.com.br/camara-de-ponta-gros...</td>\n",
       "      <td>A Câmara do município de Ponta Grossa, no Para...</td>\n",
       "    </tr>\n",
       "    <tr>\n",
       "      <th>1</th>\n",
       "      <td>15 de abril de 2021 21:19</td>\n",
       "      <td>Após inclusão de estados e municípios na ‘CPI ...</td>\n",
       "      <td>https://tercalivre.com.br/apos-inclusao-de-est...</td>\n",
       "      <td>Após o presidente do Senado Federal, Rodrigo P...</td>\n",
       "    </tr>\n",
       "    <tr>\n",
       "      <th>2</th>\n",
       "      <td>31 de março de 2021 12:12</td>\n",
       "      <td>13 países criticam falta de transparência da O...</td>\n",
       "      <td>https://tercalivre.com.br/13-paises-criticam-f...</td>\n",
       "      <td>Treze países emitiram nesta terça-feira (30) u...</td>\n",
       "    </tr>\n",
       "    <tr>\n",
       "      <th>3</th>\n",
       "      <td>25 de março de 2021 11:46</td>\n",
       "      <td>Bolsonaro anuncia comitê para combater a Covid-19</td>\n",
       "      <td>https://tercalivre.com.br/bolsonaro-anuncia-co...</td>\n",
       "      <td>O presidente da República, Jair Bolsonaro, dec...</td>\n",
       "    </tr>\n",
       "    <tr>\n",
       "      <th>4</th>\n",
       "      <td>16 de março de 2021 16:23</td>\n",
       "      <td>Cidade de São Lourenço/MG não possui internaçõ...</td>\n",
       "      <td>https://tercalivre.com.br/cidade-de-sao-louren...</td>\n",
       "      <td>O prefeito da cidade mineira de São Lourenço, ...</td>\n",
       "    </tr>\n",
       "    <tr>\n",
       "      <th>...</th>\n",
       "      <td>...</td>\n",
       "      <td>...</td>\n",
       "      <td>...</td>\n",
       "      <td>...</td>\n",
       "    </tr>\n",
       "    <tr>\n",
       "      <th>67</th>\n",
       "      <td>1 de abril de 2020 14:43</td>\n",
       "      <td>Governo anuncia R$ 200 bilhões para socorrer t...</td>\n",
       "      <td>https://tercalivre.com.br/governo-anuncia-r-20...</td>\n",
       "      <td>O presidente Jair Bolsonaro anunciou hoje (1º)...</td>\n",
       "    </tr>\n",
       "    <tr>\n",
       "      <th>68</th>\n",
       "      <td>30 de março de 2020 14:28</td>\n",
       "      <td>“Esquerda demente está atacando a terapia com ...</td>\n",
       "      <td>https://tercalivre.com.br/esquerda-demente-est...</td>\n",
       "      <td>Numa série de postagens feitas no Twitter desd...</td>\n",
       "    </tr>\n",
       "    <tr>\n",
       "      <th>69</th>\n",
       "      <td>25 de março de 2020 07:00</td>\n",
       "      <td>Bolsonaro pede calma e diz que país vencerá ví...</td>\n",
       "      <td>https://tercalivre.com.br/bolsonaro-pede-calma...</td>\n",
       "      <td>Em pronunciamento no rádio e na TV na noite de...</td>\n",
       "    </tr>\n",
       "    <tr>\n",
       "      <th>70</th>\n",
       "      <td>20 de março de 2020 09:33</td>\n",
       "      <td>Brasil tem capacidade para produzir remédio co...</td>\n",
       "      <td>https://tercalivre.com.br/brasil-tem-capacidad...</td>\n",
       "      <td>O secretário de Ciência, Tecnologia e Insumos ...</td>\n",
       "    </tr>\n",
       "    <tr>\n",
       "      <th>71</th>\n",
       "      <td>20 de março de 2020 07:00</td>\n",
       "      <td>Vírus chinês: ministério muda protocolo de ate...</td>\n",
       "      <td>https://tercalivre.com.br/virus-chines-ministe...</td>\n",
       "      <td>O Ministério da Saúde anunciou nesta quinta-fe...</td>\n",
       "    </tr>\n",
       "  </tbody>\n",
       "</table>\n",
       "<p>72 rows × 4 columns</p>\n",
       "</div>"
      ],
      "text/plain": [
       "                         data  \\\n",
       "0   20 de abril de 2021 16:00   \n",
       "1   15 de abril de 2021 21:19   \n",
       "2   31 de março de 2021 12:12   \n",
       "3   25 de março de 2021 11:46   \n",
       "4   16 de março de 2021 16:23   \n",
       "..                        ...   \n",
       "67   1 de abril de 2020 14:43   \n",
       "68  30 de março de 2020 14:28   \n",
       "69  25 de março de 2020 07:00   \n",
       "70  20 de março de 2020 09:33   \n",
       "71  20 de março de 2020 07:00   \n",
       "\n",
       "                                               titulo  \\\n",
       "0   Câmara de Ponta Grossa/PR aprova PL para dispo...   \n",
       "1   Após inclusão de estados e municípios na ‘CPI ...   \n",
       "2   13 países criticam falta de transparência da O...   \n",
       "3   Bolsonaro anuncia comitê para combater a Covid-19   \n",
       "4   Cidade de São Lourenço/MG não possui internaçõ...   \n",
       "..                                                ...   \n",
       "67  Governo anuncia R$ 200 bilhões para socorrer t...   \n",
       "68  “Esquerda demente está atacando a terapia com ...   \n",
       "69  Bolsonaro pede calma e diz que país vencerá ví...   \n",
       "70  Brasil tem capacidade para produzir remédio co...   \n",
       "71  Vírus chinês: ministério muda protocolo de ate...   \n",
       "\n",
       "                                                  url  \\\n",
       "0   https://tercalivre.com.br/camara-de-ponta-gros...   \n",
       "1   https://tercalivre.com.br/apos-inclusao-de-est...   \n",
       "2   https://tercalivre.com.br/13-paises-criticam-f...   \n",
       "3   https://tercalivre.com.br/bolsonaro-anuncia-co...   \n",
       "4   https://tercalivre.com.br/cidade-de-sao-louren...   \n",
       "..                                                ...   \n",
       "67  https://tercalivre.com.br/governo-anuncia-r-20...   \n",
       "68  https://tercalivre.com.br/esquerda-demente-est...   \n",
       "69  https://tercalivre.com.br/bolsonaro-pede-calma...   \n",
       "70  https://tercalivre.com.br/brasil-tem-capacidad...   \n",
       "71  https://tercalivre.com.br/virus-chines-ministe...   \n",
       "\n",
       "                                              noticia  \n",
       "0   A Câmara do município de Ponta Grossa, no Para...  \n",
       "1   Após o presidente do Senado Federal, Rodrigo P...  \n",
       "2   Treze países emitiram nesta terça-feira (30) u...  \n",
       "3   O presidente da República, Jair Bolsonaro, dec...  \n",
       "4   O prefeito da cidade mineira de São Lourenço, ...  \n",
       "..                                                ...  \n",
       "67  O presidente Jair Bolsonaro anunciou hoje (1º)...  \n",
       "68  Numa série de postagens feitas no Twitter desd...  \n",
       "69  Em pronunciamento no rádio e na TV na noite de...  \n",
       "70  O secretário de Ciência, Tecnologia e Insumos ...  \n",
       "71  O Ministério da Saúde anunciou nesta quinta-fe...  \n",
       "\n",
       "[72 rows x 4 columns]"
      ]
     },
     "execution_count": 7,
     "metadata": {},
     "output_type": "execute_result"
    }
   ],
   "source": [
    "LivreCSV"
   ]
  },
  {
   "cell_type": "markdown",
   "metadata": {},
   "source": [
    "# FIM DO PROGRAMA ###"
   ]
  },
  {
   "cell_type": "markdown",
   "metadata": {},
   "source": [
    "Em fase de testes"
   ]
  },
  {
   "cell_type": "code",
   "execution_count": 8,
   "metadata": {},
   "outputs": [
    {
     "data": {
      "text/plain": [
       "72"
      ]
     },
     "execution_count": 8,
     "metadata": {},
     "output_type": "execute_result"
    }
   ],
   "source": [
    "len(LivreCSV.data)"
   ]
  },
  {
   "cell_type": "code",
   "execution_count": null,
   "metadata": {},
   "outputs": [],
   "source": []
  }
 ],
 "metadata": {
  "kernelspec": {
   "display_name": "Python 3",
   "language": "python",
   "name": "python3"
  },
  "language_info": {
   "codemirror_mode": {
    "name": "ipython",
    "version": 3
   },
   "file_extension": ".py",
   "mimetype": "text/x-python",
   "name": "python",
   "nbconvert_exporter": "python",
   "pygments_lexer": "ipython3",
   "version": "3.8.5"
  }
 },
 "nbformat": 4,
 "nbformat_minor": 4
}
