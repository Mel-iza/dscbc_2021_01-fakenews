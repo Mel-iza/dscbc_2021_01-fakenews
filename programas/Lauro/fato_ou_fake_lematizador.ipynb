{
 "cells": [
  {
   "cell_type": "markdown",
   "id": "056641ae",
   "metadata": {},
   "source": [
    "### Lematizando o DataSet e acrescentando a coluna"
   ]
  },
  {
   "cell_type": "code",
   "execution_count": null,
   "id": "da178ff1",
   "metadata": {},
   "outputs": [],
   "source": [
    "!pip install -U spacy\n",
    "!pip install -U spacy-lookups-data\n",
    "!python -m spacy download pt_core_news_lg\n",
    "#!python -m spacy download pt_core_news_md"
   ]
  },
  {
   "cell_type": "code",
   "execution_count": null,
   "id": "5bfcaff2",
   "metadata": {},
   "outputs": [],
   "source": [
    "import spacy\n",
    "texto = \"\"\n",
    "nlp = spacy.load(\"pt_core_news_lg\")\n",
    "doc = nlp(texto)"
   ]
  },
  {
   "cell_type": "code",
   "execution_count": null,
   "id": "33e47bdf",
   "metadata": {},
   "outputs": [],
   "source": [
    "import pandas as pd\n",
    "df = pd.read_csv('fato_ou_fake.csv', encoding = 'utf-8')"
   ]
  },
  {
   "cell_type": "code",
   "execution_count": null,
   "id": "2244013e",
   "metadata": {},
   "outputs": [],
   "source": [
    "len(df)"
   ]
  },
  {
   "cell_type": "code",
   "execution_count": null,
   "id": "637f3630",
   "metadata": {},
   "outputs": [],
   "source": [
    "lematizado = []\n",
    "for texto in df.noticia:\n",
    "    doc = nlp(texto) \n",
    "    lemat = [token.lemma_ for token in doc]\n",
    "    print(lemat)\n",
    "    lematizado.append(lemat)"
   ]
  },
  {
   "cell_type": "code",
   "execution_count": null,
   "id": "1bbe5e63",
   "metadata": {},
   "outputs": [],
   "source": [
    "len(lematizado)"
   ]
  },
  {
   "cell_type": "code",
   "execution_count": null,
   "id": "242a30d1",
   "metadata": {},
   "outputs": [],
   "source": [
    "type(lemat)"
   ]
  },
  {
   "cell_type": "code",
   "execution_count": null,
   "id": "9381cf2b",
   "metadata": {},
   "outputs": [],
   "source": [
    "df['noticia_lem'] = lematizado"
   ]
  },
  {
   "cell_type": "code",
   "execution_count": null,
   "id": "cbd8a9da",
   "metadata": {},
   "outputs": [],
   "source": [
    "df.to_csv('pasta_csv/fato_ou_fake_lem.csv', encoding = 'utf-8')"
   ]
  },
  {
   "cell_type": "code",
   "execution_count": null,
   "id": "be0c8d54",
   "metadata": {},
   "outputs": [],
   "source": []
  }
 ],
 "metadata": {
  "kernelspec": {
   "display_name": "Python 3",
   "language": "python",
   "name": "python3"
  },
  "language_info": {
   "codemirror_mode": {
    "name": "ipython",
    "version": 3
   },
   "file_extension": ".py",
   "mimetype": "text/x-python",
   "name": "python",
   "nbconvert_exporter": "python",
   "pygments_lexer": "ipython3",
   "version": "3.8.8"
  }
 },
 "nbformat": 4,
 "nbformat_minor": 5
}
