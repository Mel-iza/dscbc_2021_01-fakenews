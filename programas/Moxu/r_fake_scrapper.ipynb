{
  "nbformat": 4,
  "nbformat_minor": 0,
  "metadata": {
    "colab": {
      "name": "scrapper_2.ipynb",
      "provenance": [],
      "include_colab_link": true
    },
    "kernelspec": {
      "name": "ir",
      "display_name": "R"
    },
    "language_info": {
      "name": "R"
    }
  },
  "cells": [
    {
      "cell_type": "markdown",
      "metadata": {
        "id": "view-in-github",
        "colab_type": "text"
      },
      "source": [
        "<a href=\"https://colab.research.google.com/github/rodolphoya/dscbc_2021_01-fakenews/blob/main/programas/Moxu/r_fake_scrapper.ipynb\" target=\"_parent\"><img src=\"https://colab.research.google.com/assets/colab-badge.svg\" alt=\"Open In Colab\"/></a>"
      ]
    },
    {
      "cell_type": "code",
      "metadata": {
        "id": "13AilNMuXCYm",
        "colab": {
          "base_uri": "https://localhost:8080/"
        },
        "outputId": "862b44ff-daf6-4ed9-a773-7f857b5b1a43"
      },
      "source": [
        "# Libraries necessárias para fazer a raspagem e o processamento de\n",
        "# strings.\n",
        "library(rvest)\n",
        "library(stringr)\n",
        "library(tidyverse)"
      ],
      "execution_count": null,
      "outputs": [
        {
          "output_type": "stream",
          "text": [
            "Warning message in system(\"timedatectl\", intern = TRUE):\n",
            "“running command 'timedatectl' had status 1”\n",
            "── \u001b[1mAttaching packages\u001b[22m ─────────────────────────────────────── tidyverse 1.3.0 ──\n",
            "\n",
            "\u001b[32m✔\u001b[39m \u001b[34mggplot2\u001b[39m 3.3.3     \u001b[32m✔\u001b[39m \u001b[34mpurrr  \u001b[39m 0.3.4\n",
            "\u001b[32m✔\u001b[39m \u001b[34mtibble \u001b[39m 3.1.0     \u001b[32m✔\u001b[39m \u001b[34mdplyr  \u001b[39m 1.0.5\n",
            "\u001b[32m✔\u001b[39m \u001b[34mtidyr  \u001b[39m 1.1.3     \u001b[32m✔\u001b[39m \u001b[34mforcats\u001b[39m 0.5.1\n",
            "\u001b[32m✔\u001b[39m \u001b[34mreadr  \u001b[39m 1.4.0     \n",
            "\n",
            "── \u001b[1mConflicts\u001b[22m ────────────────────────────────────────── tidyverse_conflicts() ──\n",
            "\u001b[31m✖\u001b[39m \u001b[34mdplyr\u001b[39m::\u001b[32mfilter()\u001b[39m         masks \u001b[34mstats\u001b[39m::filter()\n",
            "\u001b[31m✖\u001b[39m \u001b[34mreadr\u001b[39m::\u001b[32mguess_encoding()\u001b[39m masks \u001b[34mrvest\u001b[39m::guess_encoding()\n",
            "\u001b[31m✖\u001b[39m \u001b[34mdplyr\u001b[39m::\u001b[32mlag()\u001b[39m            masks \u001b[34mstats\u001b[39m::lag()\n",
            "\n"
          ],
          "name": "stderr"
        }
      ]
    },
    {
      "cell_type": "markdown",
      "metadata": {
        "id": "yPm0pkqm0Q6q"
      },
      "source": [
        "##O que esse programa pode fazer?"
      ]
    },
    {
      "cell_type": "markdown",
      "metadata": {
        "id": "heLtZ29W0WF0"
      },
      "source": [
        "Basicamente, a mesma coisa que o scrapper em Python, mas várias vezes mais fácil e incomparavelmente mais limpo. A função raspa_e_salva() fará todo o trabalho para nós.\n",
        "\n",
        "1 - Crie uma variável, em nosso exemplo será 'df'. \n",
        "\n",
        "2 - Chame a função raspa_e_salva() onde ela recebe como parâmetro o arquivo de links que você quer passar. \n",
        "\n",
        "3 - Ela raspa o texto e já salva como um dataframe!"
      ]
    },
    {
      "cell_type": "code",
      "metadata": {
        "id": "i5dm8eEHBVgm"
      },
      "source": [
        "# Função que visa raspar através de uma URL dada por mim o conteúdo\n",
        "# da class especificada.\n",
        "raspa_e_salva <- function(link){\n",
        "    html <- read_html(link)\n",
        "    #Pega o título da matéria\n",
        "    processa_titulo <- html %>%\n",
        "        html_nodes('title')\n",
        "        titulo_limpo <- html_text(processa_titulo)\n",
        "\n",
        "\n",
        "### MUDANÇAS ##\n",
        "\n",
        "# Existem dois lugares essenciais de serem mudados a cada vez que a raspagem muda \n",
        "# de site. Estes são os elementos texto_limpo, logo abaixo, e a coluna \"verdadeira\"\n",
        "# do df dataframe.\n",
        "\n",
        "    #Pega o texto através da classe HTML\n",
        "    processa_texto <- html %>%\n",
        "\n",
        "        #insira a classe que contém o conteúdo dos artigos\n",
        "        html_nodes('.red')\n",
        "        texto_limpo <- html_text(processa_texto)\n",
        "\n",
        "    #Salva o conteúdo em um dataframe\n",
        "    df <- data.frame(titulos = titulo_limpo,\n",
        "        textos = texto_limpo,\n",
        "\n",
        "        #insira se verdadeira 0 e se falsa 1\n",
        "        verdadeira = 1\n",
        "    )\n",
        "\n",
        "    #retorna o dataframe\n",
        "    return (df)\n",
        "}"
      ],
      "execution_count": null,
      "outputs": []
    },
    {
      "cell_type": "code",
      "metadata": {
        "colab": {
          "base_uri": "https://localhost:8080/"
        },
        "id": "2PBFTDFqxV2r",
        "outputId": "dba93500-e2c5-40d8-a104-91edadd22210"
      },
      "source": [
        "c <- readLines('/content/raspador/links.txt')"
      ],
      "execution_count": null,
      "outputs": [
        {
          "output_type": "stream",
          "text": [
            "Warning message in readLines(\"/content/raspador/links.txt\"):\n",
            "“incomplete final line found on '/content/raspador/links.txt'”\n"
          ],
          "name": "stderr"
        }
      ]
    },
    {
      "cell_type": "code",
      "metadata": {
        "id": "323orkTsxlXS"
      },
      "source": [
        "e = do.call(rbind, lapply(c, raspa_e_salva))"
      ],
      "execution_count": null,
      "outputs": []
    },
    {
      "cell_type": "code",
      "metadata": {
        "id": "HFVc81Bt2Z5H",
        "colab": {
          "base_uri": "https://localhost:8080/",
          "height": 244
        },
        "outputId": "32e344b2-7e92-4330-9627-31e4297f2fba"
      },
      "source": [
        "e"
      ],
      "execution_count": null,
      "outputs": [
        {
          "output_type": "display_data",
          "data": {
            "text/plain": [
              "  titulos                                                    \n",
              "1 Paulo Gustavo morreu hoje em decorrência da Covid-19 #boato\n",
              "2 Paulo Gustavo morreu hoje em decorrência da Covid-19 #boato\n",
              "3 Paulo Gustavo morreu hoje em decorrência da Covid-19 #boato\n",
              "  textos                                                                                                                                                                                                                \n",
              "1 Ator Paulo Gustavo morreu de COVID-19, aos 42 anos, notícia semelhante ao do Agnaldo Timóteo, Descanse em paz Paulo Gustavo                                                                                           \n",
              "2  Estão falando que Paulo Gustavo morreu e a família só quer divulgar a morte dele amanhã                                                                                                                              \n",
              "3 Recebi uma notícia de uma das enfermeiras do hospital que o Paulo Gustavo está internado de que ele havia falecido a pouco tempo. Espero que não seja verdade, que Deus acampe seus anjos ao redor dele nesse momento!\n",
              "  verdadeira\n",
              "1 1         \n",
              "2 1         \n",
              "3 1         "
            ],
            "text/latex": "A data.frame: 3 × 3\n\\begin{tabular}{lll}\n titulos & textos & verdadeira\\\\\n <chr> & <chr> & <dbl>\\\\\n\\hline\n\t Paulo Gustavo morreu hoje em decorrência da Covid-19 \\#boato & Ator Paulo Gustavo morreu de COVID-19, aos 42 anos, notícia semelhante ao do Agnaldo Timóteo, Descanse em paz Paulo Gustavo                                                                                            & 1\\\\\n\t Paulo Gustavo morreu hoje em decorrência da Covid-19 \\#boato &  Estão falando que Paulo Gustavo morreu e a família só quer divulgar a morte dele amanhã                                                                                                                               & 1\\\\\n\t Paulo Gustavo morreu hoje em decorrência da Covid-19 \\#boato & Recebi uma notícia de uma das enfermeiras do hospital que o Paulo Gustavo está internado de que ele havia falecido a pouco tempo. Espero que não seja verdade, que Deus acampe seus anjos ao redor dele nesse momento! & 1\\\\\n\\end{tabular}\n",
            "text/markdown": "\nA data.frame: 3 × 3\n\n| titulos &lt;chr&gt; | textos &lt;chr&gt; | verdadeira &lt;dbl&gt; |\n|---|---|---|\n| Paulo Gustavo morreu hoje em decorrência da Covid-19 #boato | Ator Paulo Gustavo morreu de COVID-19, aos 42 anos, notícia semelhante ao do Agnaldo Timóteo, Descanse em paz Paulo Gustavo                                                                                            | 1 |\n| Paulo Gustavo morreu hoje em decorrência da Covid-19 #boato |  Estão falando que Paulo Gustavo morreu e a família só quer divulgar a morte dele amanhã                                                                                                                               | 1 |\n| Paulo Gustavo morreu hoje em decorrência da Covid-19 #boato | Recebi uma notícia de uma das enfermeiras do hospital que o Paulo Gustavo está internado de que ele havia falecido a pouco tempo. Espero que não seja verdade, que Deus acampe seus anjos ao redor dele nesse momento! | 1 |\n\n",
            "text/html": [
              "<table class=\"dataframe\">\n",
              "<caption>A data.frame: 3 × 3</caption>\n",
              "<thead>\n",
              "\t<tr><th scope=col>titulos</th><th scope=col>textos</th><th scope=col>verdadeira</th></tr>\n",
              "\t<tr><th scope=col>&lt;chr&gt;</th><th scope=col>&lt;chr&gt;</th><th scope=col>&lt;dbl&gt;</th></tr>\n",
              "</thead>\n",
              "<tbody>\n",
              "\t<tr><td>Paulo Gustavo morreu hoje em decorrência da Covid-19 #boato</td><td>Ator Paulo Gustavo morreu de COVID-19, aos 42 anos, notícia semelhante ao do Agnaldo Timóteo, Descanse em paz Paulo Gustavo                                                                                           </td><td>1</td></tr>\n",
              "\t<tr><td>Paulo Gustavo morreu hoje em decorrência da Covid-19 #boato</td><td> Estão falando que Paulo Gustavo morreu e a família só quer divulgar a morte dele amanhã                                                                                                                              </td><td>1</td></tr>\n",
              "\t<tr><td>Paulo Gustavo morreu hoje em decorrência da Covid-19 #boato</td><td>Recebi uma notícia de uma das enfermeiras do hospital que o Paulo Gustavo está internado de que ele havia falecido a pouco tempo. Espero que não seja verdade, que Deus acampe seus anjos ao redor dele nesse momento!</td><td>1</td></tr>\n",
              "</tbody>\n",
              "</table>\n"
            ]
          },
          "metadata": {
            "tags": []
          }
        }
      ]
    }
  ]
}