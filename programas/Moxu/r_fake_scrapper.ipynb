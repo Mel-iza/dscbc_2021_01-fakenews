{
  "nbformat": 4,
  "nbformat_minor": 0,
  "metadata": {
    "colab": {
      "name": "scrapper_2.ipynb",
      "provenance": []
    },
    "kernelspec": {
      "name": "ir",
      "display_name": "R"
    },
    "language_info": {
      "name": "R"
    }
  },
  "cells": [
    {
      "cell_type": "code",
      "metadata": {
        "id": "13AilNMuXCYm",
        "colab": {
          "base_uri": "https://localhost:8080/"
        },
        "outputId": "862b44ff-daf6-4ed9-a773-7f857b5b1a43"
      },
      "source": [
        "# Libraries necessárias para fazer a raspagem e o processamento de\n",
        "# strings.\n",
        "library(rvest)\n",
        "library(stringr)\n",
        "library(tidyverse)"
      ],
      "execution_count": 1,
      "outputs": [
        {
          "output_type": "stream",
          "text": [
            "Warning message in system(\"timedatectl\", intern = TRUE):\n",
            "“running command 'timedatectl' had status 1”\n",
            "── \u001b[1mAttaching packages\u001b[22m ─────────────────────────────────────── tidyverse 1.3.0 ──\n",
            "\n",
            "\u001b[32m✔\u001b[39m \u001b[34mggplot2\u001b[39m 3.3.3     \u001b[32m✔\u001b[39m \u001b[34mpurrr  \u001b[39m 0.3.4\n",
            "\u001b[32m✔\u001b[39m \u001b[34mtibble \u001b[39m 3.1.0     \u001b[32m✔\u001b[39m \u001b[34mdplyr  \u001b[39m 1.0.5\n",
            "\u001b[32m✔\u001b[39m \u001b[34mtidyr  \u001b[39m 1.1.3     \u001b[32m✔\u001b[39m \u001b[34mforcats\u001b[39m 0.5.1\n",
            "\u001b[32m✔\u001b[39m \u001b[34mreadr  \u001b[39m 1.4.0     \n",
            "\n",
            "── \u001b[1mConflicts\u001b[22m ────────────────────────────────────────── tidyverse_conflicts() ──\n",
            "\u001b[31m✖\u001b[39m \u001b[34mdplyr\u001b[39m::\u001b[32mfilter()\u001b[39m         masks \u001b[34mstats\u001b[39m::filter()\n",
            "\u001b[31m✖\u001b[39m \u001b[34mreadr\u001b[39m::\u001b[32mguess_encoding()\u001b[39m masks \u001b[34mrvest\u001b[39m::guess_encoding()\n",
            "\u001b[31m✖\u001b[39m \u001b[34mdplyr\u001b[39m::\u001b[32mlag()\u001b[39m            masks \u001b[34mstats\u001b[39m::lag()\n",
            "\n"
          ],
          "name": "stderr"
        }
      ]
    },
    {
      "cell_type": "markdown",
      "metadata": {
        "id": "yPm0pkqm0Q6q"
      },
      "source": [
        "##O que esse programa pode fazer?"
      ]
    },
    {
      "cell_type": "markdown",
      "metadata": {
        "id": "heLtZ29W0WF0"
      },
      "source": [
        "Basicamente, a mesma coisa que o scrapper em Python, mas várias vezes mais fácil e incomparavelmente mais limpo. A função raspa_e_salva() fará todo o trabalho para nós.\n",
        "\n",
        "1 - Crie uma variável, em nosso exemplo será 'df'. \n",
        "\n",
        "2 - Chame a função raspa_e_salva() onde ela recebe como parâmetro a sua URL, se a notícia for verdadeira, aceitando como parâmetro uma string. 0 se for verdadeira e 1 se for falsa, e a class html que inclui o texto do artigo que você deseja. \n",
        "\n",
        "3 - Ela raspa o texto e já salva como um dataframe!"
      ]
    },
    {
      "cell_type": "code",
      "metadata": {
        "id": "i5dm8eEHBVgm"
      },
      "source": [
        "# Função que visa raspar através de uma URL dada por mim o conteúdo\n",
        "# da class especificada.\n",
        "raspa_e_salva <- function(html, fake_or_real, class){\n",
        "    html <- read_html(html)\n",
        "    #Pega o título da matéria\n",
        "    processa_titulo <- html %>%\n",
        "        html_nodes('title')\n",
        "        titulo_limpo <- html_text(processa_titulo)\n",
        "\n",
        "    #Pega o texto\n",
        "    processa_texto <- html %>%\n",
        "        html_nodes(class)\n",
        "        texto_limpo <- html_text(processa_texto)\n",
        "\n",
        "    df <- data.frame(titulos = titulo_limpo,\n",
        "        textos = texto_limpo,\n",
        "        verdadeira = fake_or_real\n",
        "    )\n",
        "}"
      ],
      "execution_count": 9,
      "outputs": []
    },
    {
      "cell_type": "code",
      "metadata": {
        "id": "Cf3zuVoizSEl"
      },
      "source": [
        "html <- 'https://noticias.uol.com.br/politica/ultimas-noticias/2021/04/04/decisao-liberacao-cultos-stf-nunes-marques-frente-nacional-prefeitos.htm'"
      ],
      "execution_count": 7,
      "outputs": []
    },
    {
      "cell_type": "code",
      "metadata": {
        "id": "r-eo8BqdBpum"
      },
      "source": [
        "df <- raspa_e_salva(html, 0, '.text')"
      ],
      "execution_count": 10,
      "outputs": []
    },
    {
      "cell_type": "code",
      "metadata": {
        "colab": {
          "base_uri": "https://localhost:8080/",
          "height": 349
        },
        "id": "HUtXU-PCzt1n",
        "outputId": "8e6dde7d-ce13-4de4-96ac-b656a3a29323"
      },
      "source": [
        "df"
      ],
      "execution_count": 11,
      "outputs": [
        {
          "output_type": "display_data",
          "data": {
            "text/plain": [
              "  titulos                                                              \n",
              "1 Liberação de cultos e missas: Frente de Prefeitos quer posição de Fux\n",
              "  textos                                                                                                                                                                                                                                                                                                                                                                                                                                                                                                                                                                                                                                                                                                                                                                                                                                                                                                                                                                                                                                                                                                                                                                                                                                                                                                                                                                                                                                                                                                                                                                                                                                                                                                                                                                                                                                                                                                                                                                                                                                                                                                                                                                                                                                                                                                                                                                                                                     \n",
              "1        O presidente da Frente Nacional de Prefeitos, Jonas Donizette, pediu que o presidente do STF (Supremo Tribunal Federal), Luiz Fux, se manifeste sobre a decisão que liberou a realização de cultos e missas presenciais em todo o país. A decisão liminar foi proferida pelo ministro Kassio Nunes Marques neste sábado (3).Donizette afirmou que Fux precisa dar uma orientação aos prefeitos sobre qual norma deve ser seguida: \"A decisão do plenário [do STF], que determinou que os municípios têm prerrogativa de estabelecer critérios de abertura e fechamento das atividades em seus territórios, ou essa liminar?\".     Relacionadas               RJ: Castro fala em 'covardia' de Freixo, que rebate: 'submisso a Bolsonaro'                             Ricardo Kotscho: O que evangélicos querem é salvar a \"sacolinha\" da falência                             'Lamentável', diz governador de PE sobre ataque de Bolsonaro durante Páscoa                        Decisões judiciais precisam ser obedecidas. Por isso, é importante que os prefeitos cumpram o que foi decidido pelo ministro Nunes Marques sobre o funcionamento de templos religiosos.-- Jonas Donizette (@jonasdonizette_) April 4, 2021Prefeito de BH é intimado após afirmar que não vai cumprir decisãoDepois da publicação da decisão, o prefeito de Belo Horizonte, Alexandre Kalil (PSD), afirmou que os cultos e missas permaneceriam suspensos na capital mineira, acompanhando a decisão do plenário do STF que deu autonomia aos prefeitos.Após pedido do advogado-geral da União, André Mendonça, o ministro Kassio Nunes Marques intimou Kalil a seguir a liminar.  Aparecida (SP) libera missas de Páscoa ao públicoCom a liminar, o Santuário Nacional de Aparecida (SP) decidiu abrir ao público neste domingo (4) de Páscoa. Pela decisão do arcebispo de Aparecida, dom Orlando Brandes, as três missas do domingo de Páscoa poderão ter a presença de fiéis.A basílica de Aparecida tem capacidade para 35 mil pessoas, mas poderá receber, no máximo, mil fiéis em cada uma das celebrações.País vive pior momento da pandemiaA decisão de Nunes Marques vem no momento em que o país vive o pior momento da pandemia até agora. O mês de março teve recorde de mortes: foram registradas 66.868 mortes por covid-19, mais do que o dobro de junho de 2020, antigo pico da pandemia, com 32.912 óbitos.       \n",
              "  verdadeira\n",
              "1 0         "
            ],
            "text/latex": "A data.frame: 1 × 3\n\\begin{tabular}{lll}\n titulos & textos & verdadeira\\\\\n <chr> & <chr> & <dbl>\\\\\n\\hline\n\t Liberação de cultos e missas: Frente de Prefeitos quer posição de Fux &        O presidente da Frente Nacional de Prefeitos, Jonas Donizette, pediu que o presidente do STF (Supremo Tribunal Federal), Luiz Fux, se manifeste sobre a decisão que liberou a realização de cultos e missas presenciais em todo o país. A decisão liminar foi proferida pelo ministro Kassio Nunes Marques neste sábado (3).Donizette afirmou que Fux precisa dar uma orientação aos prefeitos sobre qual norma deve ser seguida: \"A decisão do plenário {[}do STF{]}, que determinou que os municípios têm prerrogativa de estabelecer critérios de abertura e fechamento das atividades em seus territórios, ou essa liminar?\".     Relacionadas               RJ: Castro fala em 'covardia' de Freixo, que rebate: 'submisso a Bolsonaro'                             Ricardo Kotscho: O que evangélicos querem é salvar a \"sacolinha\" da falência                             'Lamentável', diz governador de PE sobre ataque de Bolsonaro durante Páscoa                        Decisões judiciais precisam ser obedecidas. Por isso, é importante que os prefeitos cumpram o que foi decidido pelo ministro Nunes Marques sobre o funcionamento de templos religiosos.-- Jonas Donizette (@jonasdonizette\\_) April 4, 2021Prefeito de BH é intimado após afirmar que não vai cumprir decisãoDepois da publicação da decisão, o prefeito de Belo Horizonte, Alexandre Kalil (PSD), afirmou que os cultos e missas permaneceriam suspensos na capital mineira, acompanhando a decisão do plenário do STF que deu autonomia aos prefeitos.Após pedido do advogado-geral da União, André Mendonça, o ministro Kassio Nunes Marques intimou Kalil a seguir a liminar.  Aparecida (SP) libera missas de Páscoa ao públicoCom a liminar, o Santuário Nacional de Aparecida (SP) decidiu abrir ao público neste domingo (4) de Páscoa. Pela decisão do arcebispo de Aparecida, dom Orlando Brandes, as três missas do domingo de Páscoa poderão ter a presença de fiéis.A basílica de Aparecida tem capacidade para 35 mil pessoas, mas poderá receber, no máximo, mil fiéis em cada uma das celebrações.País vive pior momento da pandemiaA decisão de Nunes Marques vem no momento em que o país vive o pior momento da pandemia até agora. O mês de março teve recorde de mortes: foram registradas 66.868 mortes por covid-19, mais do que o dobro de junho de 2020, antigo pico da pandemia, com 32.912 óbitos.        & 0\\\\\n\\end{tabular}\n",
            "text/markdown": "\nA data.frame: 1 × 3\n\n| titulos &lt;chr&gt; | textos &lt;chr&gt; | verdadeira &lt;dbl&gt; |\n|---|---|---|\n| Liberação de cultos e missas: Frente de Prefeitos quer posição de Fux |        O presidente da Frente Nacional de Prefeitos, Jonas Donizette, pediu que o presidente do STF (Supremo Tribunal Federal), Luiz Fux, se manifeste sobre a decisão que liberou a realização de cultos e missas presenciais em todo o país. A decisão liminar foi proferida pelo ministro Kassio Nunes Marques neste sábado (3).Donizette afirmou que Fux precisa dar uma orientação aos prefeitos sobre qual norma deve ser seguida: \"A decisão do plenário [do STF], que determinou que os municípios têm prerrogativa de estabelecer critérios de abertura e fechamento das atividades em seus territórios, ou essa liminar?\".     Relacionadas               RJ: Castro fala em 'covardia' de Freixo, que rebate: 'submisso a Bolsonaro'                             Ricardo Kotscho: O que evangélicos querem é salvar a \"sacolinha\" da falência                             'Lamentável', diz governador de PE sobre ataque de Bolsonaro durante Páscoa                        Decisões judiciais precisam ser obedecidas. Por isso, é importante que os prefeitos cumpram o que foi decidido pelo ministro Nunes Marques sobre o funcionamento de templos religiosos.-- Jonas Donizette (@jonasdonizette_) April 4, 2021Prefeito de BH é intimado após afirmar que não vai cumprir decisãoDepois da publicação da decisão, o prefeito de Belo Horizonte, Alexandre Kalil (PSD), afirmou que os cultos e missas permaneceriam suspensos na capital mineira, acompanhando a decisão do plenário do STF que deu autonomia aos prefeitos.Após pedido do advogado-geral da União, André Mendonça, o ministro Kassio Nunes Marques intimou Kalil a seguir a liminar.  Aparecida (SP) libera missas de Páscoa ao públicoCom a liminar, o Santuário Nacional de Aparecida (SP) decidiu abrir ao público neste domingo (4) de Páscoa. Pela decisão do arcebispo de Aparecida, dom Orlando Brandes, as três missas do domingo de Páscoa poderão ter a presença de fiéis.A basílica de Aparecida tem capacidade para 35 mil pessoas, mas poderá receber, no máximo, mil fiéis em cada uma das celebrações.País vive pior momento da pandemiaA decisão de Nunes Marques vem no momento em que o país vive o pior momento da pandemia até agora. O mês de março teve recorde de mortes: foram registradas 66.868 mortes por covid-19, mais do que o dobro de junho de 2020, antigo pico da pandemia, com 32.912 óbitos.        | 0 |\n\n",
            "text/html": [
              "<table class=\"dataframe\">\n",
              "<caption>A data.frame: 1 × 3</caption>\n",
              "<thead>\n",
              "\t<tr><th scope=col>titulos</th><th scope=col>textos</th><th scope=col>verdadeira</th></tr>\n",
              "\t<tr><th scope=col>&lt;chr&gt;</th><th scope=col>&lt;chr&gt;</th><th scope=col>&lt;dbl&gt;</th></tr>\n",
              "</thead>\n",
              "<tbody>\n",
              "\t<tr><td>Liberação de cultos e missas: Frente de Prefeitos quer posição de Fux</td><td>       O presidente da Frente Nacional de Prefeitos, Jonas Donizette, pediu que o presidente do STF (Supremo Tribunal Federal), Luiz Fux, se manifeste sobre a decisão que liberou a realização de cultos e missas presenciais em todo o país. A decisão liminar foi proferida pelo ministro Kassio Nunes Marques neste sábado (3).Donizette afirmou que Fux precisa dar uma orientação aos prefeitos sobre qual norma deve ser seguida: \"A decisão do plenário [do STF], que determinou que os municípios têm prerrogativa de estabelecer critérios de abertura e fechamento das atividades em seus territórios, ou essa liminar?\".     Relacionadas               RJ: Castro fala em 'covardia' de Freixo, que rebate: 'submisso a Bolsonaro'                             Ricardo Kotscho: O que evangélicos querem é salvar a \"sacolinha\" da falência                             'Lamentável', diz governador de PE sobre ataque de Bolsonaro durante Páscoa                        Decisões judiciais precisam ser obedecidas. Por isso, é importante que os prefeitos cumpram o que foi decidido pelo ministro Nunes Marques sobre o funcionamento de templos religiosos.-- Jonas Donizette (@jonasdonizette_) April 4, 2021Prefeito de BH é intimado após afirmar que não vai cumprir decisãoDepois da publicação da decisão, o prefeito de Belo Horizonte, Alexandre Kalil (PSD), afirmou que os cultos e missas permaneceriam suspensos na capital mineira, acompanhando a decisão do plenário do STF que deu autonomia aos prefeitos.Após pedido do advogado-geral da União, André Mendonça, o ministro Kassio Nunes Marques intimou Kalil a seguir a liminar.  Aparecida (SP) libera missas de Páscoa ao públicoCom a liminar, o Santuário Nacional de Aparecida (SP) decidiu abrir ao público neste domingo (4) de Páscoa. Pela decisão do arcebispo de Aparecida, dom Orlando Brandes, as três missas do domingo de Páscoa poderão ter a presença de fiéis.A basílica de Aparecida tem capacidade para 35 mil pessoas, mas poderá receber, no máximo, mil fiéis em cada uma das celebrações.País vive pior momento da pandemiaA decisão de Nunes Marques vem no momento em que o país vive o pior momento da pandemia até agora. O mês de março teve recorde de mortes: foram registradas 66.868 mortes por covid-19, mais do que o dobro de junho de 2020, antigo pico da pandemia, com 32.912 óbitos.       </td><td>0</td></tr>\n",
              "</tbody>\n",
              "</table>\n"
            ]
          },
          "metadata": {
            "tags": []
          }
        }
      ]
    }
  ]
}